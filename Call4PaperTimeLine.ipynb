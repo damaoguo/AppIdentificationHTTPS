{
 "cells": [
  {
   "cell_type": "code",
   "execution_count": 3,
   "metadata": {},
   "outputs": [
    {
     "name": "stdout",
     "output_type": "stream",
     "text": [
      "-----\n",
      "offset 0 31 TimeSpan 31\n",
      "offset 90 120 TimeSpan 30\n",
      "offset 151 181 TimeSpan 30\n",
      "-----\n",
      "offset 31 59 TimeSpan 28\n",
      "offset 120 151 TimeSpan 31\n",
      "offset 181 212 TimeSpan 31\n",
      "-----\n",
      "offset 31 40 TimeSpan 9\n",
      "offset 59 68 TimeSpan 9\n",
      "offset 90 99 TimeSpan 9\n",
      "offset 120 129 TimeSpan 9\n",
      "offset 151 160 TimeSpan 9\n",
      "-----\n",
      "offset 31 120 TimeSpan 89\n"
     ]
    },
    {
     "data": {
      "image/png": "[encoded data removed]",
      "text/plain": [
       "<Figure size 432x288 with 1 Axes>"
      ]
     },
     "metadata": {
      "needs_background": "light"
     },
     "output_type": "display_data"
    }
   ],
   "source": [
    "import numpy as np\n",
    "import matplotlib.pylab as plt\n",
    "import pandas as pd\n",
    "from cycler import cycler\n",
    "from datetime import datetime, timedelta\n",
    "\n",
    "idx = pd.date_range('2018-1-1', '2018-9-10', freq='1D')\n",
    "df = pd.DataFrame({'Offset': 20,'val': 2}, index=idx)\n",
    "df['Offset']=[n for n in range(0,len(df))]\n",
    "\n",
    "sched=[{'name':'tim',\n",
    "     'jobs':{\n",
    "          1:(datetime(2018,1,1,),datetime(2018,2,1)),\n",
    "          2:(datetime(2018,4,1) ,datetime(2018,5,1)),\n",
    "          3:(datetime(2018,6,1) ,datetime(2018,7,1))}\n",
    "       },\n",
    "       {'name':'BiMonthly',\n",
    "     'jobs':{\n",
    "          1:(datetime(2018,2,1,),datetime(2018,3,1)),\n",
    "          2:(datetime(2018,5,1) ,datetime(2018,6,1)),\n",
    "          3:(datetime(2018,7,1) ,datetime(2018,8,1))}\n",
    "       }\n",
    "       ,\n",
    "          {'name':'Monthly',\n",
    "     'jobs':{\n",
    "           1:(datetime(2018,2,1),datetime(2018,2,10)),\n",
    "           2:(datetime(2018,3,1),datetime(2018,3,10)),\n",
    "           3:(datetime(2018,4,1),datetime(2018,4,10)),\n",
    "           4:(datetime(2018,5,1),datetime(2018,5,10)),\n",
    "           5:(datetime(2018,6,1),datetime(2018,6,10))\n",
    "         }},\n",
    "        {'name':'LongTerm',\n",
    "     'jobs':{\n",
    "           1:(datetime(2018,2,1),datetime(2018,5,1))\n",
    "         }\n",
    "        }]\n",
    "\n",
    "color_cycle = cycler(c=['r', 'g', 'b'])\n",
    "ls_cycle = cycler('ls', ['-', '--'])\n",
    "sty_cycle = ls_cycle * ( color_cycle)\n",
    "\n",
    "def get_offset(when):\n",
    "    global df\n",
    "    if type(when)==str:\n",
    "        when=pd.to_datetime(when)\n",
    "    try:\n",
    "        return df.loc[when]['Offset']\n",
    "    except KeyError:\n",
    "        print(\"{} Not Found\".format(when))\n",
    "        return -1\n",
    "\n",
    "thickness=0.3\n",
    "timelines=[]\n",
    "\n",
    "start_period = idx[0].to_period('D').ordinal\n",
    "\n",
    "for a_job_group in sched:\n",
    "    timeline=[]\n",
    "    print(\"-----\")\n",
    "    for keys in a_job_group['jobs']:\n",
    "        offset_start = get_offset(a_job_group['jobs'][keys][0])\n",
    "        offset_end   = get_offset(a_job_group['jobs'][keys][1])\n",
    "        print(\"offset {} {} TimeSpan {}\".format(offset_start, \n",
    "                                                offset_end, offset_end - offset_start))  \n",
    "        timeline_data=(start_period + offset_start,offset_end-offset_start)\n",
    "        timeline.append(timeline_data)\n",
    "    timelines.append(timeline)\n",
    "\n",
    "pos= 0\n",
    "df.drop(['Offset'],axis=1,inplace=True,)\n",
    "ax = df.plot(color='w')\n",
    "col_schema=[s for s in sty_cycle]\n",
    "for t in timelines:\n",
    "    ax.broken_barh(t, [pos, thickness],\n",
    "                   color=col_schema[pos]['c'],\n",
    "                  linestyle=col_schema[pos]['ls'])\n",
    "    pos+= 1\n",
    "plt.show()"
   ]
  }
 ],
 "metadata": {
  "kernelspec": {
   "display_name": "Tensorflow",
   "language": "python",
   "name": "tensorflow"
  },
  "language_info": {
   "codemirror_mode": {
    "name": "ipython",
    "version": 3
   },
   "file_extension": ".py",
   "mimetype": "text/x-python",
   "name": "python",
   "nbconvert_exporter": "python",
   "pygments_lexer": "ipython3",
   "version": "3.6.7"
  }
 },
 "nbformat": 4,
 "nbformat_minor": 2
}
